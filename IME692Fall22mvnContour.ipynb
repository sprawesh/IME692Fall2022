{
  "nbformat": 4,
  "nbformat_minor": 0,
  "metadata": {
    "colab": {
      "name": "IME692Fall22mvnContour.ipynb",
      "provenance": [],
      "collapsed_sections": [],
      "mount_file_id": "12CKNUWbTEqcde1qog35VA2gVkmOqMvp7",
      "authorship_tag": "ABX9TyO/xsRE7LoyJb2b9CNgSYDh",
      "include_colab_link": true
    },
    "kernelspec": {
      "name": "python3",
      "display_name": "Python 3"
    },
    "language_info": {
      "name": "python"
    }
  },
  "cells": [
    {
      "cell_type": "markdown",
      "metadata": {
        "id": "view-in-github",
        "colab_type": "text"
      },
      "source": [
        "<a href=\"https://colab.research.google.com/github/sprawesh/IME692Fall2022/blob/main/IME692Fall22mvnContour.ipynb\" target=\"_parent\"><img src=\"https://colab.research.google.com/assets/colab-badge.svg\" alt=\"Open In Colab\"/></a>"
      ]
    },
    {
      "cell_type": "code",
      "execution_count": null,
      "metadata": {
        "id": "1hkso7a_4e70"
      },
      "outputs": [],
      "source": [
        "import matplotlib.pyplot as plt\n",
        "import numpy as np\n",
        "from matplotlib.patches import Ellipse\n",
        "import math"
      ]
    },
    {
      "cell_type": "code",
      "source": [
        "from numpy import linalg as LA\n",
        "cov = np.array([[2, 0.5], [0.5, 2]])\n",
        "lm0, vc0 = np.linalg.eig(cov) #eigen decomposition of covariance matrix\n",
        "print(lm0)\n",
        "print(vc0)"
      ],
      "metadata": {
        "id": "5T6hJV5D4ys-",
        "colab": {
          "base_uri": "https://localhost:8080/"
        },
        "outputId": "e3522af0-721c-4e71-a437-38bc55f24119"
      },
      "execution_count": null,
      "outputs": [
        {
          "output_type": "stream",
          "name": "stdout",
          "text": [
            "[2.5 1.5]\n",
            "[[ 0.70710678 -0.70710678]\n",
            " [ 0.70710678  0.70710678]]\n"
          ]
        }
      ]
    },
    {
      "cell_type": "code",
      "source": [
        "covi = np.linalg.inv(cov)\n",
        "lm, vc = np.linalg.eig(covi) #eigen decomposition of inverse-covariance matrix\n",
        "lm"
      ],
      "metadata": {
        "colab": {
          "base_uri": "https://localhost:8080/"
        },
        "id": "OXFgffo25cK9",
        "outputId": "b4ae4249-6449-472d-f027-b3adb7d534a0"
      },
      "execution_count": null,
      "outputs": [
        {
          "output_type": "execute_result",
          "data": {
            "text/plain": [
              "array([0.66666667, 0.4       ])"
            ]
          },
          "metadata": {},
          "execution_count": 5
        }
      ]
    },
    {
      "cell_type": "code",
      "source": [
        "vc[:,0]\n"
      ],
      "metadata": {
        "colab": {
          "base_uri": "https://localhost:8080/"
        },
        "id": "mjeT2uRk50a9",
        "outputId": "51c89edf-e255-44ab-e588-79cb2bdcbbdc"
      },
      "execution_count": null,
      "outputs": [
        {
          "output_type": "execute_result",
          "data": {
            "text/plain": [
              "array([ 0.70710678, -0.70710678])"
            ]
          },
          "metadata": {},
          "execution_count": 6
        }
      ]
    },
    {
      "cell_type": "code",
      "source": [
        "vc[:,1]"
      ],
      "metadata": {
        "colab": {
          "base_uri": "https://localhost:8080/"
        },
        "id": "sZY3vrA27P42",
        "outputId": "a40dfa71-9688-4cfa-eb74-85cb94bcca80"
      },
      "execution_count": null,
      "outputs": [
        {
          "output_type": "execute_result",
          "data": {
            "text/plain": [
              "array([0.70710678, 0.70710678])"
            ]
          },
          "metadata": {},
          "execution_count": 7
        }
      ]
    },
    {
      "cell_type": "code",
      "source": [
        "contour_step = 0.4\n",
        "ds = np.arange(0.6, 1.5, contour_step)\n",
        "ax = plt.subplot(aspect='equal')\n",
        "for d in ds:\n",
        "  ellipse = Ellipse((1, 2), d*math.sqrt(5/2), d*math.sqrt(3/2), angle=45, fill=False, edgecolor='red')\n",
        "  ax.add_artist(ellipse)\n",
        "plt.xlim(-0.5, 2.5)\n",
        "plt.ylim(0, 3.5)\n",
        "plt.show()\n"
      ],
      "metadata": {
        "colab": {
          "base_uri": "https://localhost:8080/",
          "height": 269
        },
        "id": "JhZ-Cgk8_43M",
        "outputId": "2c3a22cb-d5e7-470a-ac04-0765489b14d7"
      },
      "execution_count": null,
      "outputs": [
        {
          "output_type": "display_data",
          "data": {
            "text/plain": [
              "<Figure size 432x288 with 1 Axes>"
            ],
            "image/png": "[encoded data removed]"
          },
          "metadata": {
            "needs_background": "light"
          }
        }
      ]
    },
    {
      "cell_type": "code",
      "source": [
        "import numpy as np\n",
        "path = '/content/drive/MyDrive/Colab Notebooks/pullover.dat'\n",
        "data = np.loadtxt(path)\n",
        "print(data)"
      ],
      "metadata": {
        "id": "MtaymympvrMw",
        "colab": {
          "base_uri": "https://localhost:8080/"
        },
        "outputId": "b101fc55-8199-4b1b-db16-527659c2b910"
      },
      "execution_count": null,
      "outputs": [
        {
          "output_type": "stream",
          "name": "stdout",
          "text": [
            "[[230. 125. 200. 109.]\n",
            " [181.  99.  55. 107.]\n",
            " [165.  97. 105.  98.]\n",
            " [150. 115.  85.  71.]\n",
            " [ 97. 120.   0.  82.]\n",
            " [192. 100. 150. 103.]\n",
            " [181.  80.  85. 111.]\n",
            " [189.  90. 120.  93.]\n",
            " [172.  95. 110.  86.]\n",
            " [170. 125. 130.  78.]]\n"
          ]
        }
      ]
    },
    {
      "cell_type": "code",
      "source": [
        "meanpull = np.mean(data, axis = 0)"
      ],
      "metadata": {
        "id": "NGsF8N7CwvY4"
      },
      "execution_count": null,
      "outputs": []
    },
    {
      "cell_type": "code",
      "source": [
        "A = np.array([0, 0, 1, 10])\n",
        "np.matmul(A, meanpull)"
      ],
      "metadata": {
        "colab": {
          "base_uri": "https://localhost:8080/"
        },
        "id": "KUUF8uPDx8_Q",
        "outputId": "8f6b9c06-4d60-4362-d499-b0af2a6ff527"
      },
      "execution_count": null,
      "outputs": [
        {
          "output_type": "execute_result",
          "data": {
            "text/plain": [
              "1042.0"
            ]
          },
          "metadata": {},
          "execution_count": 9
        }
      ]
    }
  ]
}