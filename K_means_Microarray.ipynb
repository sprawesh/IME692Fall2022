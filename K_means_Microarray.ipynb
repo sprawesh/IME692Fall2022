{
  "nbformat": 4,
  "nbformat_minor": 0,
  "metadata": {
    "colab": {
      "name": "K-means Microarray.ipynb",
      "provenance": [],
      "collapsed_sections": [],
      "authorship_tag": "ABX9TyOb0C8tT9l9koGu+4OEq1yO",
      "include_colab_link": true
    },
    "kernelspec": {
      "name": "python3",
      "display_name": "Python 3"
    },
    "language_info": {
      "name": "python"
    }
  },
  "cells": [
    {
      "cell_type": "markdown",
      "metadata": {
        "id": "view-in-github",
        "colab_type": "text"
      },
      "source": [
        "<a href=\"https://colab.research.google.com/github/sprawesh/IME692Fall2022/blob/main/K_means_Microarray.ipynb\" target=\"_parent\"><img src=\"https://colab.research.google.com/assets/colab-badge.svg\" alt=\"Open In Colab\"/></a>"
      ]
    },
    {
      "cell_type": "code",
      "execution_count": 2,
      "metadata": {
        "id": "fa-CotNobvwc"
      },
      "outputs": [],
      "source": [
        "import pandas as pd\n",
        "import numpy as np"
      ]
    },
    {
      "cell_type": "code",
      "source": [
        "from google.colab import drive\n",
        "drive.mount('/content/gdrive', force_remount = True)"
      ],
      "metadata": {
        "colab": {
          "base_uri": "https://localhost:8080/"
        },
        "id": "VTZZtU-hcaQc",
        "outputId": "1f46032a-4c89-4fdd-eff2-363f456b338f"
      },
      "execution_count": 3,
      "outputs": [
        {
          "output_type": "stream",
          "name": "stdout",
          "text": [
            "Mounted at /content/gdrive\n"
          ]
        }
      ]
    },
    {
      "cell_type": "code",
      "source": [
        "data = pd.read_csv(\"/content/gdrive/MyDrive/Colab Notebooks/nci.data.csv\", sep=',') \n",
        "labels = pd.read_csv(\"/content/gdrive/MyDrive/Colab Notebooks/nci.label.txt\", names=['type']) "
      ],
      "metadata": {
        "id": "PqdaDu5GdSO0"
      },
      "execution_count": 41,
      "outputs": []
    },
    {
      "cell_type": "code",
      "source": [
        "labels['type'] = labels['type'].str.strip()\n",
        "# combine some groups\n",
        "labels_grp = labels.copy()\n",
        "labels_grp.loc[labels_grp['type'] == 'K562A-repro', 'type'] = 'K562'\n",
        "labels_grp.loc[labels_grp['type'] == 'K562B-repro', 'type'] = 'K562'\n",
        "labels_grp.loc[labels_grp['type'] == 'MCF7A-repro', 'type'] = 'MCF7'\n",
        "labels_grp.loc[labels_grp['type'] == 'MCF7D-repro', 'type'] = 'MCF7'\n",
        "\n",
        "y = labels['type'].values\n",
        "y_grp = labels_grp['type'].values"
      ],
      "metadata": {
        "id": "xn-IdUZ0dtUm"
      },
      "execution_count": 61,
      "outputs": []
    },
    {
      "cell_type": "code",
      "source": [
        "sample_columns = [f's{i+1}' for i in range(64)]\n",
        "X = data[sample_columns].values\n",
        "Y = labels"
      ],
      "metadata": {
        "id": "s6_uow18TZa6"
      },
      "execution_count": 62,
      "outputs": []
    },
    {
      "cell_type": "code",
      "source": [
        "from sklearn.cluster import KMeans\n",
        "from collections import Counter\n",
        "\n",
        "n_clusters = 3\n",
        "kmeans = KMeans(n_clusters=n_clusters, random_state=1).fit(X.T)\n",
        "clusters = kmeans.predict(X.T)"
      ],
      "metadata": {
        "id": "vtALacvuVM4T"
      },
      "execution_count": 63,
      "outputs": []
    },
    {
      "cell_type": "code",
      "source": [
        "cluster_counts = [Counter(y_grp[clusters == c]) for c in range(3)]"
      ],
      "metadata": {
        "id": "O3u4jxNsaGyW"
      },
      "execution_count": 65,
      "outputs": []
    },
    {
      "cell_type": "code",
      "source": [
        "for grp in [['BREAST', 'CNS', 'COLON', 'K562', 'LEUKEMIA', 'MCF7'],\n",
        "            ['MELANOMA', 'NSCLC', 'OVARIAN', 'PROSTATE', 'RENAL', 'UNKNOWN']]:\n",
        "    print('-'*70)\n",
        "    print('Cluster  |' + ''.join([f'{n:^10}' for n in grp]))\n",
        "    print('-'*70)\n",
        "    for c in range(n_clusters):\n",
        "        counts = cluster_counts[c]\n",
        "        cnts = [counts[t] \n",
        "                if t in counts \n",
        "                else 0 for t in grp]\n",
        "        print(f'{c+1:<9}|' + ''.join([f'{c:^10}' for c in cnts]))"
      ],
      "metadata": {
        "colab": {
          "base_uri": "https://localhost:8080/"
        },
        "id": "aRF4Q8ASf4kW",
        "outputId": "6c649c0a-43e7-4f67-d1ec-6d8800e27446"
      },
      "execution_count": 66,
      "outputs": [
        {
          "output_type": "stream",
          "name": "stdout",
          "text": [
            "----------------------------------------------------------------------\n",
            "Cluster  |  BREAST     CNS      COLON      K562    LEUKEMIA    MCF7   \n",
            "----------------------------------------------------------------------\n",
            "1        |    3         5         0         0         0         0     \n",
            "2        |    2         0         0         0         0         0     \n",
            "3        |    2         0         7         2         6         2     \n",
            "----------------------------------------------------------------------\n",
            "Cluster  | MELANOMA   NSCLC    OVARIAN   PROSTATE   RENAL    UNKNOWN  \n",
            "----------------------------------------------------------------------\n",
            "1        |    1         8         6         2         9         1     \n",
            "2        |    7         0         0         0         0         0     \n",
            "3        |    0         1         0         0         0         0     \n"
          ]
        }
      ]
    }
  ]
}