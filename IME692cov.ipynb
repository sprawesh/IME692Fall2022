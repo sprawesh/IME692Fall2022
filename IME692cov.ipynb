{
  "nbformat": 4,
  "nbformat_minor": 0,
  "metadata": {
    "colab": {
      "name": "IME692cov.ipynb",
      "provenance": [],
      "collapsed_sections": [],
      "authorship_tag": "ABX9TyPl7+o1IZibVUwrCapAp8aE",
      "include_colab_link": true
    },
    "kernelspec": {
      "name": "python3",
      "display_name": "Python 3"
    },
    "language_info": {
      "name": "python"
    }
  },
  "cells": [
    {
      "cell_type": "markdown",
      "metadata": {
        "id": "view-in-github",
        "colab_type": "text"
      },
      "source": [
        "<a href=\"https://colab.research.google.com/github/sprawesh/IME692Fall2022/blob/main/IME692cov.ipynb\" target=\"_parent\"><img src=\"https://colab.research.google.com/assets/colab-badge.svg\" alt=\"Open In Colab\"/></a>"
      ]
    },
    {
      "cell_type": "code",
      "execution_count": null,
      "metadata": {
        "colab": {
          "base_uri": "https://localhost:8080/"
        },
        "id": "27wCOsCelDJc",
        "outputId": "3da80285-c1ae-4734-a91d-4b71606f76f6"
      },
      "outputs": [
        {
          "output_type": "stream",
          "name": "stdout",
          "text": [
            "Mounted at /content/gdrive\n"
          ]
        }
      ],
      "source": [
        "from google.colab import drive\n",
        "drive.mount('/content/gdrive', force_remount = True)"
      ]
    },
    {
      "cell_type": "code",
      "source": [
        "import numpy as np\n",
        "from sklearn.covariance import EmpiricalCovariance"
      ],
      "metadata": {
        "id": "I8ZIP4JDpe3y"
      },
      "execution_count": null,
      "outputs": []
    },
    {
      "cell_type": "code",
      "source": [
        "# read a file and convert it into array with shape (n_sample, n_features)\n",
        "# dataset is available at https://github.com/QuantLet/MVA/tree/master/QID-945-MVApcabank\n",
        "path = '/content/gdrive/MyDrive/Colab Notebooks/bank2.txt'\n",
        "data = np.loadtxt(path)\n",
        "print(data.shape)"
      ],
      "metadata": {
        "colab": {
          "base_uri": "https://localhost:8080/"
        },
        "id": "qhr59BYspjEw",
        "outputId": "3bebe656-5bf9-49f7-e0ba-c2cd5143c2a3"
      },
      "execution_count": null,
      "outputs": [
        {
          "output_type": "stream",
          "name": "stdout",
          "text": [
            "(200, 6)\n"
          ]
        }
      ]
    },
    {
      "cell_type": "code",
      "source": [
        "data[:5,] # first five rows"
      ],
      "metadata": {
        "colab": {
          "base_uri": "https://localhost:8080/"
        },
        "id": "gBtDMeoYqPpw",
        "outputId": "9b09d91b-6dac-4c2f-ea98-7c551cb6645a"
      },
      "execution_count": null,
      "outputs": [
        {
          "output_type": "execute_result",
          "data": {
            "text/plain": [
              "array([[214.8, 131. , 131.1,   9. ,   9.7, 141. ],\n",
              "       [214.6, 129.7, 129.7,   8.1,   9.5, 141.7],\n",
              "       [214.8, 129.7, 129.7,   8.7,   9.6, 142.2],\n",
              "       [214.8, 129.7, 129.6,   7.5,  10.4, 142. ],\n",
              "       [215. , 129.6, 129.7,  10.4,   7.7, 141.8]])"
            ]
          },
          "metadata": {},
          "execution_count": 4
        }
      ]
    },
    {
      "cell_type": "code",
      "source": [
        "#copy first 100 rows -genuine, remaining -counterfeit\n",
        "fake = np.copy(data) # because modified and original array share memory block\n",
        "fake1 = fake[100:,]"
      ],
      "metadata": {
        "id": "CuGg6UHOrPMY"
      },
      "execution_count": null,
      "outputs": []
    },
    {
      "cell_type": "code",
      "source": [
        "print(fake1.shape)"
      ],
      "metadata": {
        "colab": {
          "base_uri": "https://localhost:8080/"
        },
        "id": "YSsPJiuCrYEA",
        "outputId": "2e531c7d-1efa-4da4-c62e-d83e22b98767"
      },
      "execution_count": null,
      "outputs": [
        {
          "output_type": "stream",
          "name": "stdout",
          "text": [
            "(100, 6)\n"
          ]
        }
      ]
    },
    {
      "cell_type": "code",
      "source": [
        "fake1[:5,]"
      ],
      "metadata": {
        "colab": {
          "base_uri": "https://localhost:8080/"
        },
        "id": "l7xLe4l1rcpf",
        "outputId": "2464698c-9f6d-4ebe-c93e-c7040e6d967b"
      },
      "execution_count": null,
      "outputs": [
        {
          "output_type": "execute_result",
          "data": {
            "text/plain": [
              "array([[214.4, 130.1, 130.3,   9.7,  11.7, 139.8],\n",
              "       [214.9, 130.5, 130.2,  11. ,  11.5, 139.5],\n",
              "       [214.9, 130.3, 130.1,   8.7,  11.7, 140.2],\n",
              "       [215. , 130.4, 130.6,   9.9,  10.9, 140.3],\n",
              "       [214.7, 130.2, 130.3,  11.8,  10.9, 139.7]])"
            ]
          },
          "metadata": {},
          "execution_count": 7
        }
      ]
    },
    {
      "cell_type": "code",
      "source": [
        "genuine = data[:100,]\n",
        "print(genuine.shape)"
      ],
      "metadata": {
        "colab": {
          "base_uri": "https://localhost:8080/"
        },
        "id": "300UQHF6rgsB",
        "outputId": "00ad1d93-65a9-45be-bf9b-cfdf575b21b6"
      },
      "execution_count": null,
      "outputs": [
        {
          "output_type": "stream",
          "name": "stdout",
          "text": [
            "(100, 6)\n"
          ]
        }
      ]
    },
    {
      "cell_type": "code",
      "source": [
        "genuine[95:,]"
      ],
      "metadata": {
        "colab": {
          "base_uri": "https://localhost:8080/"
        },
        "id": "k43yuU1irmN4",
        "outputId": "39ced7f1-2f3a-4724-d64a-6c032e5f674c"
      },
      "execution_count": null,
      "outputs": [
        {
          "output_type": "execute_result",
          "data": {
            "text/plain": [
              "array([[215.6, 129.9, 129.9,   9. ,   9.5, 141.7],\n",
              "       [215. , 130.4, 130.3,   9.1,  10.2, 141.1],\n",
              "       [214.4, 129.7, 129.5,   8. ,  10.3, 141.2],\n",
              "       [215.1, 130. , 129.8,   9.1,  10.2, 141.5],\n",
              "       [214.7, 130. , 129.4,   7.8,  10. , 141.2]])"
            ]
          },
          "metadata": {},
          "execution_count": 9
        }
      ]
    },
    {
      "cell_type": "code",
      "source": [
        "covf = EmpiricalCovariance().fit(fake1)\n",
        "covg = EmpiricalCovariance().fit(genuine)"
      ],
      "metadata": {
        "id": "NDOKK4XcrqcA"
      },
      "execution_count": null,
      "outputs": []
    },
    {
      "cell_type": "code",
      "source": [
        "covf1 = np.round(covf.covariance_, decimals=3)\n",
        "covf1"
      ],
      "metadata": {
        "colab": {
          "base_uri": "https://localhost:8080/"
        },
        "id": "98LUtmlxr4Kw",
        "outputId": "3e954f3a-0b58-4135-f171-31f5030406b9"
      },
      "execution_count": null,
      "outputs": [
        {
          "output_type": "execute_result",
          "data": {
            "text/plain": [
              "array([[ 0.123,  0.031,  0.024, -0.1  ,  0.019,  0.011],\n",
              "       [ 0.031,  0.064,  0.046, -0.024, -0.012, -0.005],\n",
              "       [ 0.024,  0.046,  0.088, -0.018,  0.   ,  0.034],\n",
              "       [-0.1  , -0.024, -0.018,  1.269, -0.485,  0.236],\n",
              "       [ 0.019, -0.012,  0.   , -0.485,  0.4  , -0.022],\n",
              "       [ 0.011, -0.005,  0.034,  0.236, -0.022,  0.308]])"
            ]
          },
          "metadata": {},
          "execution_count": 9
        }
      ]
    },
    {
      "cell_type": "code",
      "source": [
        "covg1 = np.round(covg.covariance_, decimals=3)\n",
        "covg1"
      ],
      "metadata": {
        "colab": {
          "base_uri": "https://localhost:8080/"
        },
        "id": "tgumUpEutdwZ",
        "outputId": "6c1f4260-cdec-49d4-9923-f03134f5bc63"
      },
      "execution_count": null,
      "outputs": [
        {
          "output_type": "execute_result",
          "data": {
            "text/plain": [
              "array([[ 0.149,  0.057,  0.057,  0.057,  0.014,  0.005],\n",
              "       [ 0.057,  0.131,  0.085,  0.056,  0.049, -0.043],\n",
              "       [ 0.057,  0.085,  0.125,  0.058,  0.03 , -0.024],\n",
              "       [ 0.057,  0.056,  0.058,  0.409, -0.261, -0.   ],\n",
              "       [ 0.014,  0.049,  0.03 , -0.261,  0.417, -0.075],\n",
              "       [ 0.005, -0.043, -0.024, -0.   , -0.075,  0.198]])"
            ]
          },
          "metadata": {},
          "execution_count": 11
        }
      ]
    },
    {
      "cell_type": "code",
      "source": [
        "import pandas as pd\n",
        "pd.DataFrame(covg1, columns=('V1', 'v2', 'v3', 'v4', 'V5', 'V6'), \n",
        "             index=('V1', 'v2', 'v3', 'v4', 'V5', 'V6'))"
      ],
      "metadata": {
        "colab": {
          "base_uri": "https://localhost:8080/",
          "height": 237
        },
        "id": "Dd2T_JpuufK4",
        "outputId": "7b281f23-0357-410d-f046-b58bf1f467c2"
      },
      "execution_count": null,
      "outputs": [
        {
          "output_type": "execute_result",
          "data": {
            "text/plain": [
              "       V1     v2     v3     v4     V5     V6\n",
              "V1  0.149  0.057  0.057  0.057  0.014  0.005\n",
              "v2  0.057  0.131  0.085  0.056  0.049 -0.043\n",
              "v3  0.057  0.085  0.125  0.058  0.030 -0.024\n",
              "v4  0.057  0.056  0.058  0.409 -0.261 -0.000\n",
              "V5  0.014  0.049  0.030 -0.261  0.417 -0.075\n",
              "V6  0.005 -0.043 -0.024 -0.000 -0.075  0.198"
            ],
            "text/html": [
              "\n",
              "  <div id=\"df-8198aeb1-6ade-42b5-a53a-13c24d2d5a69\">\n",
              "    <div class=\"colab-df-container\">\n",
              "      <div>\n",
              "<style scoped>\n",
              "    .dataframe tbody tr th:only-of-type {\n",
              "        vertical-align: middle;\n",
              "    }\n",
              "\n",
              "    .dataframe tbody tr th {\n",
              "        vertical-align: top;\n",
              "    }\n",
              "\n",
              "    .dataframe thead th {\n",
              "        text-align: right;\n",
              "    }\n",
              "</style>\n",
              "<table border=\"1\" class=\"dataframe\">\n",
              "  <thead>\n",
              "    <tr style=\"text-align: right;\">\n",
              "      <th></th>\n",
              "      <th>V1</th>\n",
              "      <th>v2</th>\n",
              "      <th>v3</th>\n",
              "      <th>v4</th>\n",
              "      <th>V5</th>\n",
              "      <th>V6</th>\n",
              "    </tr>\n",
              "  </thead>\n",
              "  <tbody>\n",
              "    <tr>\n",
              "      <th>V1</th>\n",
              "      <td>0.149</td>\n",
              "      <td>0.057</td>\n",
              "      <td>0.057</td>\n",
              "      <td>0.057</td>\n",
              "      <td>0.014</td>\n",
              "      <td>0.005</td>\n",
              "    </tr>\n",
              "    <tr>\n",
              "      <th>v2</th>\n",
              "      <td>0.057</td>\n",
              "      <td>0.131</td>\n",
              "      <td>0.085</td>\n",
              "      <td>0.056</td>\n",
              "      <td>0.049</td>\n",
              "      <td>-0.043</td>\n",
              "    </tr>\n",
              "    <tr>\n",
              "      <th>v3</th>\n",
              "      <td>0.057</td>\n",
              "      <td>0.085</td>\n",
              "      <td>0.125</td>\n",
              "      <td>0.058</td>\n",
              "      <td>0.030</td>\n",
              "      <td>-0.024</td>\n",
              "    </tr>\n",
              "    <tr>\n",
              "      <th>v4</th>\n",
              "      <td>0.057</td>\n",
              "      <td>0.056</td>\n",
              "      <td>0.058</td>\n",
              "      <td>0.409</td>\n",
              "      <td>-0.261</td>\n",
              "      <td>-0.000</td>\n",
              "    </tr>\n",
              "    <tr>\n",
              "      <th>V5</th>\n",
              "      <td>0.014</td>\n",
              "      <td>0.049</td>\n",
              "      <td>0.030</td>\n",
              "      <td>-0.261</td>\n",
              "      <td>0.417</td>\n",
              "      <td>-0.075</td>\n",
              "    </tr>\n",
              "    <tr>\n",
              "      <th>V6</th>\n",
              "      <td>0.005</td>\n",
              "      <td>-0.043</td>\n",
              "      <td>-0.024</td>\n",
              "      <td>-0.000</td>\n",
              "      <td>-0.075</td>\n",
              "      <td>0.198</td>\n",
              "    </tr>\n",
              "  </tbody>\n",
              "</table>\n",
              "</div>\n",
              "      <button class=\"colab-df-convert\" onclick=\"convertToInteractive('df-8198aeb1-6ade-42b5-a53a-13c24d2d5a69')\"\n",
              "              title=\"Convert this dataframe to an interactive table.\"\n",
              "              style=\"display:none;\">\n",
              "        \n",
              "  <svg xmlns=\"http://www.w3.org/2000/svg\" height=\"24px\"viewBox=\"0 0 24 24\"\n",
              "       width=\"24px\">\n",
              "    <path d=\"M0 0h24v24H0V0z\" fill=\"none\"/>\n",
              "    <path d=\"M18.56 5.44l.94 2.06.94-2.06 2.06-.94-2.06-.94-.94-2.06-.94 2.06-2.06.94zm-11 1L8.5 8.5l.94-2.06 2.06-.94-2.06-.94L8.5 2.5l-.94 2.06-2.06.94zm10 10l.94 2.06.94-2.06 2.06-.94-2.06-.94-.94-2.06-.94 2.06-2.06.94z\"/><path d=\"M17.41 7.96l-1.37-1.37c-.4-.4-.92-.59-1.43-.59-.52 0-1.04.2-1.43.59L10.3 9.45l-7.72 7.72c-.78.78-.78 2.05 0 2.83L4 21.41c.39.39.9.59 1.41.59.51 0 1.02-.2 1.41-.59l7.78-7.78 2.81-2.81c.8-.78.8-2.07 0-2.86zM5.41 20L4 18.59l7.72-7.72 1.47 1.35L5.41 20z\"/>\n",
              "  </svg>\n",
              "      </button>\n",
              "      \n",
              "  <style>\n",
              "    .colab-df-container {\n",
              "      display:flex;\n",
              "      flex-wrap:wrap;\n",
              "      gap: 12px;\n",
              "    }\n",
              "\n",
              "    .colab-df-convert {\n",
              "      background-color: #E8F0FE;\n",
              "      border: none;\n",
              "      border-radius: 50%;\n",
              "      cursor: pointer;\n",
              "      display: none;\n",
              "      fill: #1967D2;\n",
              "      height: 32px;\n",
              "      padding: 0 0 0 0;\n",
              "      width: 32px;\n",
              "    }\n",
              "\n",
              "    .colab-df-convert:hover {\n",
              "      background-color: #E2EBFA;\n",
              "      box-shadow: 0px 1px 2px rgba(60, 64, 67, 0.3), 0px 1px 3px 1px rgba(60, 64, 67, 0.15);\n",
              "      fill: #174EA6;\n",
              "    }\n",
              "\n",
              "    [theme=dark] .colab-df-convert {\n",
              "      background-color: #3B4455;\n",
              "      fill: #D2E3FC;\n",
              "    }\n",
              "\n",
              "    [theme=dark] .colab-df-convert:hover {\n",
              "      background-color: #434B5C;\n",
              "      box-shadow: 0px 1px 3px 1px rgba(0, 0, 0, 0.15);\n",
              "      filter: drop-shadow(0px 1px 2px rgba(0, 0, 0, 0.3));\n",
              "      fill: #FFFFFF;\n",
              "    }\n",
              "  </style>\n",
              "\n",
              "      <script>\n",
              "        const buttonEl =\n",
              "          document.querySelector('#df-8198aeb1-6ade-42b5-a53a-13c24d2d5a69 button.colab-df-convert');\n",
              "        buttonEl.style.display =\n",
              "          google.colab.kernel.accessAllowed ? 'block' : 'none';\n",
              "\n",
              "        async function convertToInteractive(key) {\n",
              "          const element = document.querySelector('#df-8198aeb1-6ade-42b5-a53a-13c24d2d5a69');\n",
              "          const dataTable =\n",
              "            await google.colab.kernel.invokeFunction('convertToInteractive',\n",
              "                                                     [key], {});\n",
              "          if (!dataTable) return;\n",
              "\n",
              "          const docLinkHtml = 'Like what you see? Visit the ' +\n",
              "            '<a target=\"_blank\" href=https://colab.research.google.com/notebooks/data_table.ipynb>data table notebook</a>'\n",
              "            + ' to learn more about interactive tables.';\n",
              "          element.innerHTML = '';\n",
              "          dataTable['output_type'] = 'display_data';\n",
              "          await google.colab.output.renderOutput(dataTable, element);\n",
              "          const docLink = document.createElement('div');\n",
              "          docLink.innerHTML = docLinkHtml;\n",
              "          element.appendChild(docLink);\n",
              "        }\n",
              "      </script>\n",
              "    </div>\n",
              "  </div>\n",
              "  "
            ]
          },
          "metadata": {},
          "execution_count": 12
        }
      ]
    },
    {
      "cell_type": "code",
      "source": [
        "pd.DataFrame(covf1, columns=('V1', 'v2', 'v3', 'v4', 'V5', 'V6'), \n",
        "             index=('V1', 'v2', 'v3', 'v4', 'V5', 'V6'))\n",
        "#v4 has negative correlation with other variables"
      ],
      "metadata": {
        "colab": {
          "base_uri": "https://localhost:8080/",
          "height": 237
        },
        "id": "lHBtTMhrumNn",
        "outputId": "4be80ad3-c64a-48ad-8788-31d7c314ff2d"
      },
      "execution_count": null,
      "outputs": [
        {
          "output_type": "execute_result",
          "data": {
            "text/plain": [
              "       V1     v2     v3     v4     V5     V6\n",
              "V1  0.123  0.031  0.024 -0.100  0.019  0.011\n",
              "v2  0.031  0.064  0.046 -0.024 -0.012 -0.005\n",
              "v3  0.024  0.046  0.088 -0.018  0.000  0.034\n",
              "v4 -0.100 -0.024 -0.018  1.269 -0.485  0.236\n",
              "V5  0.019 -0.012  0.000 -0.485  0.400 -0.022\n",
              "V6  0.011 -0.005  0.034  0.236 -0.022  0.308"
            ],
            "text/html": [
              "\n",
              "  <div id=\"df-6cc90f2a-9814-4049-b77b-03e4c60e4a08\">\n",
              "    <div class=\"colab-df-container\">\n",
              "      <div>\n",
              "<style scoped>\n",
              "    .dataframe tbody tr th:only-of-type {\n",
              "        vertical-align: middle;\n",
              "    }\n",
              "\n",
              "    .dataframe tbody tr th {\n",
              "        vertical-align: top;\n",
              "    }\n",
              "\n",
              "    .dataframe thead th {\n",
              "        text-align: right;\n",
              "    }\n",
              "</style>\n",
              "<table border=\"1\" class=\"dataframe\">\n",
              "  <thead>\n",
              "    <tr style=\"text-align: right;\">\n",
              "      <th></th>\n",
              "      <th>V1</th>\n",
              "      <th>v2</th>\n",
              "      <th>v3</th>\n",
              "      <th>v4</th>\n",
              "      <th>V5</th>\n",
              "      <th>V6</th>\n",
              "    </tr>\n",
              "  </thead>\n",
              "  <tbody>\n",
              "    <tr>\n",
              "      <th>V1</th>\n",
              "      <td>0.123</td>\n",
              "      <td>0.031</td>\n",
              "      <td>0.024</td>\n",
              "      <td>-0.100</td>\n",
              "      <td>0.019</td>\n",
              "      <td>0.011</td>\n",
              "    </tr>\n",
              "    <tr>\n",
              "      <th>v2</th>\n",
              "      <td>0.031</td>\n",
              "      <td>0.064</td>\n",
              "      <td>0.046</td>\n",
              "      <td>-0.024</td>\n",
              "      <td>-0.012</td>\n",
              "      <td>-0.005</td>\n",
              "    </tr>\n",
              "    <tr>\n",
              "      <th>v3</th>\n",
              "      <td>0.024</td>\n",
              "      <td>0.046</td>\n",
              "      <td>0.088</td>\n",
              "      <td>-0.018</td>\n",
              "      <td>0.000</td>\n",
              "      <td>0.034</td>\n",
              "    </tr>\n",
              "    <tr>\n",
              "      <th>v4</th>\n",
              "      <td>-0.100</td>\n",
              "      <td>-0.024</td>\n",
              "      <td>-0.018</td>\n",
              "      <td>1.269</td>\n",
              "      <td>-0.485</td>\n",
              "      <td>0.236</td>\n",
              "    </tr>\n",
              "    <tr>\n",
              "      <th>V5</th>\n",
              "      <td>0.019</td>\n",
              "      <td>-0.012</td>\n",
              "      <td>0.000</td>\n",
              "      <td>-0.485</td>\n",
              "      <td>0.400</td>\n",
              "      <td>-0.022</td>\n",
              "    </tr>\n",
              "    <tr>\n",
              "      <th>V6</th>\n",
              "      <td>0.011</td>\n",
              "      <td>-0.005</td>\n",
              "      <td>0.034</td>\n",
              "      <td>0.236</td>\n",
              "      <td>-0.022</td>\n",
              "      <td>0.308</td>\n",
              "    </tr>\n",
              "  </tbody>\n",
              "</table>\n",
              "</div>\n",
              "      <button class=\"colab-df-convert\" onclick=\"convertToInteractive('df-6cc90f2a-9814-4049-b77b-03e4c60e4a08')\"\n",
              "              title=\"Convert this dataframe to an interactive table.\"\n",
              "              style=\"display:none;\">\n",
              "        \n",
              "  <svg xmlns=\"http://www.w3.org/2000/svg\" height=\"24px\"viewBox=\"0 0 24 24\"\n",
              "       width=\"24px\">\n",
              "    <path d=\"M0 0h24v24H0V0z\" fill=\"none\"/>\n",
              "    <path d=\"M18.56 5.44l.94 2.06.94-2.06 2.06-.94-2.06-.94-.94-2.06-.94 2.06-2.06.94zm-11 1L8.5 8.5l.94-2.06 2.06-.94-2.06-.94L8.5 2.5l-.94 2.06-2.06.94zm10 10l.94 2.06.94-2.06 2.06-.94-2.06-.94-.94-2.06-.94 2.06-2.06.94z\"/><path d=\"M17.41 7.96l-1.37-1.37c-.4-.4-.92-.59-1.43-.59-.52 0-1.04.2-1.43.59L10.3 9.45l-7.72 7.72c-.78.78-.78 2.05 0 2.83L4 21.41c.39.39.9.59 1.41.59.51 0 1.02-.2 1.41-.59l7.78-7.78 2.81-2.81c.8-.78.8-2.07 0-2.86zM5.41 20L4 18.59l7.72-7.72 1.47 1.35L5.41 20z\"/>\n",
              "  </svg>\n",
              "      </button>\n",
              "      \n",
              "  <style>\n",
              "    .colab-df-container {\n",
              "      display:flex;\n",
              "      flex-wrap:wrap;\n",
              "      gap: 12px;\n",
              "    }\n",
              "\n",
              "    .colab-df-convert {\n",
              "      background-color: #E8F0FE;\n",
              "      border: none;\n",
              "      border-radius: 50%;\n",
              "      cursor: pointer;\n",
              "      display: none;\n",
              "      fill: #1967D2;\n",
              "      height: 32px;\n",
              "      padding: 0 0 0 0;\n",
              "      width: 32px;\n",
              "    }\n",
              "\n",
              "    .colab-df-convert:hover {\n",
              "      background-color: #E2EBFA;\n",
              "      box-shadow: 0px 1px 2px rgba(60, 64, 67, 0.3), 0px 1px 3px 1px rgba(60, 64, 67, 0.15);\n",
              "      fill: #174EA6;\n",
              "    }\n",
              "\n",
              "    [theme=dark] .colab-df-convert {\n",
              "      background-color: #3B4455;\n",
              "      fill: #D2E3FC;\n",
              "    }\n",
              "\n",
              "    [theme=dark] .colab-df-convert:hover {\n",
              "      background-color: #434B5C;\n",
              "      box-shadow: 0px 1px 3px 1px rgba(0, 0, 0, 0.15);\n",
              "      filter: drop-shadow(0px 1px 2px rgba(0, 0, 0, 0.3));\n",
              "      fill: #FFFFFF;\n",
              "    }\n",
              "  </style>\n",
              "\n",
              "      <script>\n",
              "        const buttonEl =\n",
              "          document.querySelector('#df-6cc90f2a-9814-4049-b77b-03e4c60e4a08 button.colab-df-convert');\n",
              "        buttonEl.style.display =\n",
              "          google.colab.kernel.accessAllowed ? 'block' : 'none';\n",
              "\n",
              "        async function convertToInteractive(key) {\n",
              "          const element = document.querySelector('#df-6cc90f2a-9814-4049-b77b-03e4c60e4a08');\n",
              "          const dataTable =\n",
              "            await google.colab.kernel.invokeFunction('convertToInteractive',\n",
              "                                                     [key], {});\n",
              "          if (!dataTable) return;\n",
              "\n",
              "          const docLinkHtml = 'Like what you see? Visit the ' +\n",
              "            '<a target=\"_blank\" href=https://colab.research.google.com/notebooks/data_table.ipynb>data table notebook</a>'\n",
              "            + ' to learn more about interactive tables.';\n",
              "          element.innerHTML = '';\n",
              "          dataTable['output_type'] = 'display_data';\n",
              "          await google.colab.output.renderOutput(dataTable, element);\n",
              "          const docLink = document.createElement('div');\n",
              "          docLink.innerHTML = docLinkHtml;\n",
              "          element.appendChild(docLink);\n",
              "        }\n",
              "      </script>\n",
              "    </div>\n",
              "  </div>\n",
              "  "
            ]
          },
          "metadata": {},
          "execution_count": 13
        }
      ]
    },
    {
      "cell_type": "code",
      "source": [
        "#correlation matrix for fake\n",
        "diagf = np.diag(covf1)\n",
        "l1 = np.sqrt(diagf)\n",
        "num = np.ones(6)\n",
        "d1 = np.divide(num, l1)"
      ],
      "metadata": {
        "id": "zAF0-89Du99Y"
      },
      "execution_count": null,
      "outputs": []
    },
    {
      "cell_type": "code",
      "source": [
        "s = np.diag(d1)\n",
        "R = np.matmul(s, covf1)\n",
        "R1 = np.matmul(R, s)"
      ],
      "metadata": {
        "id": "9JXYCLpZu_4Q"
      },
      "execution_count": null,
      "outputs": []
    },
    {
      "cell_type": "code",
      "source": [
        "pdf2 = pd.DataFrame(np.round(R1, decimals=3), columns=('V1', 'v2', 'v3', 'v4', 'V5', 'V6'),\n",
        "            index=('V1', 'v2', 'v3', 'v4', 'V5', 'V6'))\n",
        "\n",
        "st = pdf2.to_string()\n",
        "with open(\"/content/gdrive/MyDrive/Colab Notebooks/cov_f.txt\", \"w+\") as file:\n",
        "    file.write(st)"
      ],
      "metadata": {
        "id": "0aBg7Hl4vHC_"
      },
      "execution_count": null,
      "outputs": []
    },
    {
      "cell_type": "code",
      "source": [
        "#correlation matrix for genuine\n",
        "diag2 = np.diag(covg1)\n",
        "l2 = np.sqrt(diag2)\n",
        "num = np.ones(6)\n",
        "d2 = np.divide(num, l2)\n",
        "\n",
        "s = np.diag(d2)\n",
        "R = np.matmul(s, covg1)\n",
        "R2 = np.matmul(R, s)\n",
        "\n",
        "pdgf = pd.DataFrame(np.round(R2, decimals=3), columns=('V1', 'v2', 'v3', 'v4', 'V5', 'V6'),\n",
        "            index=('V1', 'v2', 'v3', 'v4', 'V5', 'V6'))\n"
      ],
      "metadata": {
        "id": "pjIOJ0RLvkaw"
      },
      "execution_count": null,
      "outputs": []
    },
    {
      "cell_type": "code",
      "source": [
        "#append result to the same file. \n",
        "st = pdgf.to_string()\n",
        "with open(\"/content/gdrive/MyDrive/Colab Notebooks/cov_f.txt\", \"a\") as file:\n",
        "    file.write(\"\\n\")   \n",
        "    file.write(st)\n",
        "    \n",
        "#V4, V5 show different relationships"
      ],
      "metadata": {
        "id": "9rJ7fzSUxabC"
      },
      "execution_count": null,
      "outputs": []
    }
  ]
}